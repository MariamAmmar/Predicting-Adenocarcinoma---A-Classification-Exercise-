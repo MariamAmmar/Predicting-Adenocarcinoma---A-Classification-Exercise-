{
 "cells": [
  {
   "cell_type": "markdown",
   "metadata": {},
   "source": [
    "# Predicting Adenocarcinoma"
   ]
  },
  {
   "cell_type": "markdown",
   "metadata": {},
   "source": [
    "This is an exercise for predicting whether a patient has adenocarcinoma (1) or not (0). It is a classification problem. "
   ]
  },
  {
   "cell_type": "code",
   "execution_count": 1,
   "metadata": {},
   "outputs": [
    {
     "data": {
      "text/html": [
       "<div>\n",
       "<style scoped>\n",
       "    .dataframe tbody tr th:only-of-type {\n",
       "        vertical-align: middle;\n",
       "    }\n",
       "\n",
       "    .dataframe tbody tr th {\n",
       "        vertical-align: top;\n",
       "    }\n",
       "\n",
       "    .dataframe thead th {\n",
       "        text-align: right;\n",
       "    }\n",
       "</style>\n",
       "<table border=\"1\" class=\"dataframe\">\n",
       "  <thead>\n",
       "    <tr style=\"text-align: right;\">\n",
       "      <th></th>\n",
       "      <th>gene1</th>\n",
       "      <th>gene2</th>\n",
       "      <th>gene3</th>\n",
       "      <th>gene4</th>\n",
       "      <th>gene5</th>\n",
       "      <th>proteinA</th>\n",
       "      <th>adenocarcinoma</th>\n",
       "    </tr>\n",
       "  </thead>\n",
       "  <tbody>\n",
       "    <tr>\n",
       "      <th>0</th>\n",
       "      <td>-4.253070</td>\n",
       "      <td>1060.828274</td>\n",
       "      <td>0.723866</td>\n",
       "      <td>-183.193766</td>\n",
       "      <td>899.840296</td>\n",
       "      <td>absent</td>\n",
       "      <td>0</td>\n",
       "    </tr>\n",
       "    <tr>\n",
       "      <th>1</th>\n",
       "      <td>-9.394422</td>\n",
       "      <td>745.845012</td>\n",
       "      <td>1.177609</td>\n",
       "      <td>-348.189944</td>\n",
       "      <td>-320.521019</td>\n",
       "      <td>absent</td>\n",
       "      <td>1</td>\n",
       "    </tr>\n",
       "    <tr>\n",
       "      <th>2</th>\n",
       "      <td>-12.529502</td>\n",
       "      <td>1210.943422</td>\n",
       "      <td>0.362242</td>\n",
       "      <td>447.704411</td>\n",
       "      <td>643.489025</td>\n",
       "      <td>present</td>\n",
       "      <td>0</td>\n",
       "    </tr>\n",
       "    <tr>\n",
       "      <th>3</th>\n",
       "      <td>-8.676414</td>\n",
       "      <td>1339.463332</td>\n",
       "      <td>0.937266</td>\n",
       "      <td>397.341232</td>\n",
       "      <td>837.099109</td>\n",
       "      <td>absent</td>\n",
       "      <td>1</td>\n",
       "    </tr>\n",
       "    <tr>\n",
       "      <th>4</th>\n",
       "      <td>-2.462555</td>\n",
       "      <td>-148.879229</td>\n",
       "      <td>1.509619</td>\n",
       "      <td>404.786878</td>\n",
       "      <td>-1356.039919</td>\n",
       "      <td>present</td>\n",
       "      <td>1</td>\n",
       "    </tr>\n",
       "    <tr>\n",
       "      <th>...</th>\n",
       "      <td>...</td>\n",
       "      <td>...</td>\n",
       "      <td>...</td>\n",
       "      <td>...</td>\n",
       "      <td>...</td>\n",
       "      <td>...</td>\n",
       "      <td>...</td>\n",
       "    </tr>\n",
       "    <tr>\n",
       "      <th>995</th>\n",
       "      <td>-8.367396</td>\n",
       "      <td>369.497263</td>\n",
       "      <td>-0.759674</td>\n",
       "      <td>56.265427</td>\n",
       "      <td>326.115137</td>\n",
       "      <td>present</td>\n",
       "      <td>0</td>\n",
       "    </tr>\n",
       "    <tr>\n",
       "      <th>996</th>\n",
       "      <td>-3.010149</td>\n",
       "      <td>NaN</td>\n",
       "      <td>0.465490</td>\n",
       "      <td>-17.559968</td>\n",
       "      <td>671.171655</td>\n",
       "      <td>absent</td>\n",
       "      <td>1</td>\n",
       "    </tr>\n",
       "    <tr>\n",
       "      <th>997</th>\n",
       "      <td>-6.669936</td>\n",
       "      <td>793.798406</td>\n",
       "      <td>1.042483</td>\n",
       "      <td>379.967222</td>\n",
       "      <td>-49719.196634</td>\n",
       "      <td>present</td>\n",
       "      <td>0</td>\n",
       "    </tr>\n",
       "    <tr>\n",
       "      <th>998</th>\n",
       "      <td>-12.606095</td>\n",
       "      <td>-431.566220</td>\n",
       "      <td>-1.522064</td>\n",
       "      <td>-67.756794</td>\n",
       "      <td>-866.565430</td>\n",
       "      <td>present</td>\n",
       "      <td>0</td>\n",
       "    </tr>\n",
       "    <tr>\n",
       "      <th>999</th>\n",
       "      <td>-2.593233</td>\n",
       "      <td>NaN</td>\n",
       "      <td>0.069493</td>\n",
       "      <td>83.863585</td>\n",
       "      <td>851.913848</td>\n",
       "      <td>present</td>\n",
       "      <td>1</td>\n",
       "    </tr>\n",
       "  </tbody>\n",
       "</table>\n",
       "<p>1000 rows × 7 columns</p>\n",
       "</div>"
      ],
      "text/plain": [
       "         gene1        gene2     gene3       gene4         gene5 proteinA  \\\n",
       "0    -4.253070  1060.828274  0.723866 -183.193766    899.840296   absent   \n",
       "1    -9.394422   745.845012  1.177609 -348.189944   -320.521019   absent   \n",
       "2   -12.529502  1210.943422  0.362242  447.704411    643.489025  present   \n",
       "3    -8.676414  1339.463332  0.937266  397.341232    837.099109   absent   \n",
       "4    -2.462555  -148.879229  1.509619  404.786878  -1356.039919  present   \n",
       "..         ...          ...       ...         ...           ...      ...   \n",
       "995  -8.367396   369.497263 -0.759674   56.265427    326.115137  present   \n",
       "996  -3.010149          NaN  0.465490  -17.559968    671.171655   absent   \n",
       "997  -6.669936   793.798406  1.042483  379.967222 -49719.196634  present   \n",
       "998 -12.606095  -431.566220 -1.522064  -67.756794   -866.565430  present   \n",
       "999  -2.593233          NaN  0.069493   83.863585    851.913848  present   \n",
       "\n",
       "     adenocarcinoma  \n",
       "0                 0  \n",
       "1                 1  \n",
       "2                 0  \n",
       "3                 1  \n",
       "4                 1  \n",
       "..              ...  \n",
       "995               0  \n",
       "996               1  \n",
       "997               0  \n",
       "998               0  \n",
       "999               1  \n",
       "\n",
       "[1000 rows x 7 columns]"
      ]
     },
     "execution_count": 1,
     "metadata": {},
     "output_type": "execute_result"
    }
   ],
   "source": [
    "import pandas as pd\n",
    "import seaborn as sns\n",
    "\n",
    "data = pd.read_csv(\"/Users/jessicaparker/Desktop/Data/Coding Challenge/data.csv\")\n",
    "\n",
    "data"
   ]
  },
  {
   "cell_type": "markdown",
   "metadata": {},
   "source": [
    "Just for the sake of curiosity, let's check and see how many people in out data set have adenocarcinoma."
   ]
  },
  {
   "cell_type": "markdown",
   "metadata": {},
   "source": [
    "## Exploration"
   ]
  },
  {
   "cell_type": "code",
   "execution_count": 2,
   "metadata": {},
   "outputs": [
    {
     "data": {
      "text/plain": [
       "1    656\n",
       "0    344\n",
       "Name: adenocarcinoma, dtype: int64"
      ]
     },
     "execution_count": 2,
     "metadata": {},
     "output_type": "execute_result"
    }
   ],
   "source": [
    "data[\"adenocarcinoma\"].value_counts()"
   ]
  },
  {
   "cell_type": "markdown",
   "metadata": {},
   "source": [
    "As we can see from the information above, quite a lot of these patients do have it - nearly 70%!"
   ]
  },
  {
   "cell_type": "code",
   "execution_count": 3,
   "metadata": {},
   "outputs": [
    {
     "data": {
      "text/html": [
       "<div>\n",
       "<style scoped>\n",
       "    .dataframe tbody tr th:only-of-type {\n",
       "        vertical-align: middle;\n",
       "    }\n",
       "\n",
       "    .dataframe tbody tr th {\n",
       "        vertical-align: top;\n",
       "    }\n",
       "\n",
       "    .dataframe thead th {\n",
       "        text-align: right;\n",
       "    }\n",
       "</style>\n",
       "<table border=\"1\" class=\"dataframe\">\n",
       "  <thead>\n",
       "    <tr style=\"text-align: right;\">\n",
       "      <th></th>\n",
       "      <th>gene1</th>\n",
       "      <th>gene2</th>\n",
       "      <th>gene3</th>\n",
       "      <th>gene4</th>\n",
       "      <th>gene5</th>\n",
       "      <th>adenocarcinoma</th>\n",
       "    </tr>\n",
       "  </thead>\n",
       "  <tbody>\n",
       "    <tr>\n",
       "      <th>gene1</th>\n",
       "      <td>1.000000</td>\n",
       "      <td>-0.061801</td>\n",
       "      <td>-0.115256</td>\n",
       "      <td>0.056433</td>\n",
       "      <td>0.008912</td>\n",
       "      <td>0.005616</td>\n",
       "    </tr>\n",
       "    <tr>\n",
       "      <th>gene2</th>\n",
       "      <td>-0.061801</td>\n",
       "      <td>1.000000</td>\n",
       "      <td>0.029620</td>\n",
       "      <td>-0.001688</td>\n",
       "      <td>0.087897</td>\n",
       "      <td>0.096640</td>\n",
       "    </tr>\n",
       "    <tr>\n",
       "      <th>gene3</th>\n",
       "      <td>-0.115256</td>\n",
       "      <td>0.029620</td>\n",
       "      <td>1.000000</td>\n",
       "      <td>0.014839</td>\n",
       "      <td>-0.030150</td>\n",
       "      <td>0.581606</td>\n",
       "    </tr>\n",
       "    <tr>\n",
       "      <th>gene4</th>\n",
       "      <td>0.056433</td>\n",
       "      <td>-0.001688</td>\n",
       "      <td>0.014839</td>\n",
       "      <td>1.000000</td>\n",
       "      <td>0.033690</td>\n",
       "      <td>0.018529</td>\n",
       "    </tr>\n",
       "    <tr>\n",
       "      <th>gene5</th>\n",
       "      <td>0.008912</td>\n",
       "      <td>0.087897</td>\n",
       "      <td>-0.030150</td>\n",
       "      <td>0.033690</td>\n",
       "      <td>1.000000</td>\n",
       "      <td>-0.034971</td>\n",
       "    </tr>\n",
       "    <tr>\n",
       "      <th>adenocarcinoma</th>\n",
       "      <td>0.005616</td>\n",
       "      <td>0.096640</td>\n",
       "      <td>0.581606</td>\n",
       "      <td>0.018529</td>\n",
       "      <td>-0.034971</td>\n",
       "      <td>1.000000</td>\n",
       "    </tr>\n",
       "  </tbody>\n",
       "</table>\n",
       "</div>"
      ],
      "text/plain": [
       "                   gene1     gene2     gene3     gene4     gene5  \\\n",
       "gene1           1.000000 -0.061801 -0.115256  0.056433  0.008912   \n",
       "gene2          -0.061801  1.000000  0.029620 -0.001688  0.087897   \n",
       "gene3          -0.115256  0.029620  1.000000  0.014839 -0.030150   \n",
       "gene4           0.056433 -0.001688  0.014839  1.000000  0.033690   \n",
       "gene5           0.008912  0.087897 -0.030150  0.033690  1.000000   \n",
       "adenocarcinoma  0.005616  0.096640  0.581606  0.018529 -0.034971   \n",
       "\n",
       "                adenocarcinoma  \n",
       "gene1                 0.005616  \n",
       "gene2                 0.096640  \n",
       "gene3                 0.581606  \n",
       "gene4                 0.018529  \n",
       "gene5                -0.034971  \n",
       "adenocarcinoma        1.000000  "
      ]
     },
     "execution_count": 3,
     "metadata": {},
     "output_type": "execute_result"
    }
   ],
   "source": [
    "data.corr()"
   ]
  },
  {
   "cell_type": "markdown",
   "metadata": {},
   "source": [
    "Now, let's change the absent/present feature in a dummy variable to make things easier for us later on. "
   ]
  },
  {
   "cell_type": "code",
   "execution_count": 4,
   "metadata": {},
   "outputs": [],
   "source": [
    "data[\"proteinA\"].replace(\"absent\", 0, inplace = True)\n",
    "data[\"proteinA\"].replace(\"present\", 1, inplace = True)"
   ]
  },
  {
   "cell_type": "code",
   "execution_count": 5,
   "metadata": {},
   "outputs": [
    {
     "name": "stdout",
     "output_type": "stream",
     "text": [
      "<class 'pandas.core.frame.DataFrame'>\n",
      "RangeIndex: 1000 entries, 0 to 999\n",
      "Data columns (total 7 columns):\n",
      " #   Column          Non-Null Count  Dtype  \n",
      "---  ------          --------------  -----  \n",
      " 0   gene1           1000 non-null   float64\n",
      " 1   gene2           823 non-null    float64\n",
      " 2   gene3           1000 non-null   float64\n",
      " 3   gene4           1000 non-null   float64\n",
      " 4   gene5           1000 non-null   float64\n",
      " 5   proteinA        1000 non-null   int64  \n",
      " 6   adenocarcinoma  1000 non-null   int64  \n",
      "dtypes: float64(5), int64(2)\n",
      "memory usage: 54.8 KB\n"
     ]
    }
   ],
   "source": [
    "data.info()"
   ]
  },
  {
   "cell_type": "markdown",
   "metadata": {},
   "source": [
    "We can see here that in gene2 there are 177 missing values. Let's impute them. "
   ]
  },
  {
   "cell_type": "code",
   "execution_count": 6,
   "metadata": {},
   "outputs": [
    {
     "data": {
      "text/plain": [
       "(1031.3801293241488, 708.2113858100753)"
      ]
     },
     "execution_count": 6,
     "metadata": {},
     "output_type": "execute_result"
    }
   ],
   "source": [
    "data[\"gene2\"].median(), data[\"gene2\"].mean()"
   ]
  },
  {
   "cell_type": "markdown",
   "metadata": {},
   "source": [
    "We should use the median to impute the values since it varies greatly from the mean which means that out feature has a lot of outliers. "
   ]
  },
  {
   "cell_type": "code",
   "execution_count": 7,
   "metadata": {},
   "outputs": [
    {
     "name": "stdout",
     "output_type": "stream",
     "text": [
      "<class 'pandas.core.frame.DataFrame'>\n",
      "RangeIndex: 1000 entries, 0 to 999\n",
      "Data columns (total 7 columns):\n",
      " #   Column          Non-Null Count  Dtype  \n",
      "---  ------          --------------  -----  \n",
      " 0   gene1           1000 non-null   float64\n",
      " 1   gene2           1000 non-null   float64\n",
      " 2   gene3           1000 non-null   float64\n",
      " 3   gene4           1000 non-null   float64\n",
      " 4   gene5           1000 non-null   float64\n",
      " 5   proteinA        1000 non-null   int64  \n",
      " 6   adenocarcinoma  1000 non-null   int64  \n",
      "dtypes: float64(5), int64(2)\n",
      "memory usage: 54.8 KB\n"
     ]
    }
   ],
   "source": [
    "from sklearn.impute import SimpleImputer\n",
    "\n",
    "imp = SimpleImputer(strategy = \"median\")\n",
    "imp.fit(data[[\"gene2\"]])\n",
    "imputed = imp.transform(data[[\"gene2\"]])\n",
    "imputed = pd.DataFrame(imputed)\n",
    "data[\"gene2\"] = imputed\n",
    "\n",
    "data.info()"
   ]
  },
  {
   "cell_type": "markdown",
   "metadata": {},
   "source": [
    "We can now see that out data set has no more missing values. "
   ]
  },
  {
   "cell_type": "code",
   "execution_count": 8,
   "metadata": {},
   "outputs": [
    {
     "data": {
      "text/plain": [
       "<AxesSubplot:xlabel='gene3'>"
      ]
     },
     "execution_count": 8,
     "metadata": {},
     "output_type": "execute_result"
    },
    {
     "data": {
      "image/png": "[encoded data removed]",
      "text/plain": [
       "<Figure size 432x288 with 1 Axes>"
      ]
     },
     "metadata": {
      "needs_background": "light"
     },
     "output_type": "display_data"
    }
   ],
   "source": [
    "sns.boxplot(data[\"gene3\"])"
   ]
  },
  {
   "cell_type": "code",
   "execution_count": 9,
   "metadata": {},
   "outputs": [
    {
     "data": {
      "text/plain": [
       "<AxesSubplot:xlabel='gene5'>"
      ]
     },
     "execution_count": 9,
     "metadata": {},
     "output_type": "execute_result"
    },
    {
     "data": {
      "image/png": "[encoded data removed]",
      "text/plain": [
       "<Figure size 432x288 with 1 Axes>"
      ]
     },
     "metadata": {
      "needs_background": "light"
     },
     "output_type": "display_data"
    }
   ],
   "source": [
    "sns.boxplot(data[\"gene5\"])"
   ]
  },
  {
   "cell_type": "markdown",
   "metadata": {},
   "source": [
    "Since we can see that these features have a lot of outliers, let's use a Robust Scaler. However, first we should split out data into a test and training set. "
   ]
  },
  {
   "cell_type": "code",
   "execution_count": 10,
   "metadata": {},
   "outputs": [
    {
     "data": {
      "text/plain": [
       "Index(['gene1', 'gene2', 'gene3', 'gene4', 'gene5', 'proteinA',\n",
       "       'adenocarcinoma'],\n",
       "      dtype='object')"
      ]
     },
     "execution_count": 10,
     "metadata": {},
     "output_type": "execute_result"
    }
   ],
   "source": [
    "data.columns"
   ]
  },
  {
   "cell_type": "code",
   "execution_count": 11,
   "metadata": {},
   "outputs": [],
   "source": [
    "from sklearn.model_selection import train_test_split\n",
    "\n",
    "y = data[\"adenocarcinoma\"]\n",
    "X = data[['gene1', 'gene2', 'gene3', 'gene4', 'gene5', 'proteinA']]\n",
    "\n",
    "X_train, X_test, y_train, y_test = train_test_split(X, y, test_size=0.30, random_state = 1)"
   ]
  },
  {
   "cell_type": "code",
   "execution_count": 12,
   "metadata": {},
   "outputs": [
    {
     "name": "stdout",
     "output_type": "stream",
     "text": [
      "<class 'pandas.core.frame.DataFrame'>\n",
      "RangeIndex: 1000 entries, 0 to 999\n",
      "Data columns (total 7 columns):\n",
      " #   Column          Non-Null Count  Dtype  \n",
      "---  ------          --------------  -----  \n",
      " 0   gene1           1000 non-null   float64\n",
      " 1   gene2           1000 non-null   float64\n",
      " 2   gene3           1000 non-null   float64\n",
      " 3   gene4           1000 non-null   float64\n",
      " 4   gene5           1000 non-null   float64\n",
      " 5   proteinA        1000 non-null   int64  \n",
      " 6   adenocarcinoma  1000 non-null   int64  \n",
      "dtypes: float64(5), int64(2)\n",
      "memory usage: 54.8 KB\n"
     ]
    }
   ],
   "source": [
    "data.info()"
   ]
  },
  {
   "cell_type": "code",
   "execution_count": 13,
   "metadata": {},
   "outputs": [],
   "source": [
    "from sklearn.preprocessing import RobustScaler\n",
    "\n",
    "\n",
    "robustscaler = RobustScaler().fit(X_train)\n",
    "\n",
    "X_train[:][['gene2','gene3']] = robustscaler.fit_transform(X_train[['gene2','gene3']])\n",
    "X_test[:][['gene2','gene3']] = robustscaler.transform(X_test[['gene2','gene3']])\n",
    "\n",
    "# scaled_test = X_test\n"
   ]
  },
  {
   "cell_type": "markdown",
   "metadata": {},
   "source": [
    "Now, we are ready to buld out logistic regression model. "
   ]
  },
  {
   "cell_type": "markdown",
   "metadata": {},
   "source": [
    "## Logistic Regression "
   ]
  },
  {
   "cell_type": "code",
   "execution_count": 14,
   "metadata": {},
   "outputs": [
    {
     "name": "stderr",
     "output_type": "stream",
     "text": [
      "/Users/jessicaparker/.pyenv/versions/3.7.7/envs/lewagon/lib/python3.7/site-packages/sklearn/linear_model/_logistic.py:764: ConvergenceWarning: lbfgs failed to converge (status=1):\n",
      "STOP: TOTAL NO. of ITERATIONS REACHED LIMIT.\n",
      "\n",
      "Increase the number of iterations (max_iter) or scale the data as shown in:\n",
      "    https://scikit-learn.org/stable/modules/preprocessing.html\n",
      "Please also refer to the documentation for alternative solver options:\n",
      "    https://scikit-learn.org/stable/modules/linear_model.html#logistic-regression\n",
      "  extra_warning_msg=_LOGISTIC_SOLVER_CONVERGENCE_MSG)\n"
     ]
    },
    {
     "data": {
      "text/plain": [
       "0.8"
      ]
     },
     "execution_count": 14,
     "metadata": {},
     "output_type": "execute_result"
    }
   ],
   "source": [
    "from sklearn.linear_model import LogisticRegression\n",
    "\n",
    "log_model = LogisticRegression()\n",
    "clf = log_model.fit(X_train, y_train)\n",
    "clf.score(X_test, y_test)\n"
   ]
  },
  {
   "cell_type": "code",
   "execution_count": 18,
   "metadata": {},
   "outputs": [
    {
     "data": {
      "text/plain": [
       "array([[0.07244887, 0.92755113],\n",
       "       [0.14918803, 0.85081197],\n",
       "       [0.80072044, 0.19927956],\n",
       "       [0.22074394, 0.77925606],\n",
       "       [0.75163276, 0.24836724],\n",
       "       [0.24981178, 0.75018822],\n",
       "       [0.07387676, 0.92612324],\n",
       "       [0.4208055 , 0.5791945 ],\n",
       "       [0.14351328, 0.85648672],\n",
       "       [0.06970404, 0.93029596],\n",
       "       [0.30814635, 0.69185365],\n",
       "       [0.52488557, 0.47511443],\n",
       "       [0.32319186, 0.67680814],\n",
       "       [0.03576137, 0.96423863],\n",
       "       [0.65955379, 0.34044621]])"
      ]
     },
     "execution_count": 18,
     "metadata": {},
     "output_type": "execute_result"
    }
   ],
   "source": [
    "clf.predict_proba(X_test.iloc[0:15])"
   ]
  },
  {
   "cell_type": "markdown",
   "metadata": {},
   "source": [
    "Above we can see the probability that the 15  patients in our test set will have adenocarcinoma and chances are that all of them except 3 do!"
   ]
  },
  {
   "cell_type": "code",
   "execution_count": 22,
   "metadata": {},
   "outputs": [
    {
     "name": "stdout",
     "output_type": "stream",
     "text": [
      "              precision    recall  f1-score   support\n",
      "\n",
      "           0       0.77      0.61      0.68       106\n",
      "           1       0.81      0.90      0.85       194\n",
      "\n",
      "    accuracy                           0.80       300\n",
      "   macro avg       0.79      0.76      0.77       300\n",
      "weighted avg       0.80      0.80      0.79       300\n",
      "\n"
     ]
    }
   ],
   "source": [
    "pred = clf.predict(X_test)\n",
    "from sklearn.metrics import classification_report\n",
    "\n",
    "print(classification_report(y_test, pred))"
   ]
  },
  {
   "cell_type": "markdown",
   "metadata": {},
   "source": [
    "Since we do not care as much about false positivies and would like to catch as many people who have the illness, then we want to aim for a high recall score. "
   ]
  },
  {
   "cell_type": "markdown",
   "metadata": {},
   "source": [
    "Now, let's build another model so see if we can get more accurate predictions."
   ]
  },
  {
   "cell_type": "markdown",
   "metadata": {},
   "source": [
    "### RandomForestClassifier"
   ]
  },
  {
   "cell_type": "code",
   "execution_count": 16,
   "metadata": {},
   "outputs": [
    {
     "data": {
      "text/plain": [
       "0.8533333333333334"
      ]
     },
     "execution_count": 16,
     "metadata": {},
     "output_type": "execute_result"
    }
   ],
   "source": [
    "from sklearn.ensemble import RandomForestClassifier\n",
    "\n",
    "forest = RandomForestClassifier()\n",
    "forest.fit(X_train, y_train)\n",
    "forest.score(X_test, y_test)"
   ]
  },
  {
   "cell_type": "code",
   "execution_count": null,
   "metadata": {},
   "outputs": [],
   "source": [
    "This model gives us 85 percent accuracy!"
   ]
  },
  {
   "cell_type": "code",
   "execution_count": 24,
   "metadata": {},
   "outputs": [
    {
     "name": "stdout",
     "output_type": "stream",
     "text": [
      "              precision    recall  f1-score   support\n",
      "\n",
      "           0       0.87      0.69      0.77       106\n",
      "           1       0.85      0.94      0.89       194\n",
      "\n",
      "    accuracy                           0.85       300\n",
      "   macro avg       0.86      0.82      0.83       300\n",
      "weighted avg       0.85      0.85      0.85       300\n",
      "\n"
     ]
    }
   ],
   "source": [
    "pred = forest.predict(X_test)\n",
    "from sklearn.metrics import classification_report\n",
    "\n",
    "print(classification_report(y_test, pred))"
   ]
  },
  {
   "cell_type": "markdown",
   "metadata": {},
   "source": [
    "We can see here that our recall score has also increased so out of the two simple models, the random forest is the safer bet. "
   ]
  },
  {
   "cell_type": "code",
   "execution_count": 17,
   "metadata": {},
   "outputs": [
    {
     "data": {
      "text/plain": [
       "array([[0.03, 0.97],\n",
       "       [0.17, 0.83],\n",
       "       [0.96, 0.04],\n",
       "       [0.14, 0.86],\n",
       "       [0.75, 0.25],\n",
       "       [0.43, 0.57],\n",
       "       [0.05, 0.95],\n",
       "       [0.04, 0.96],\n",
       "       [0.38, 0.62],\n",
       "       [0.02, 0.98],\n",
       "       [0.43, 0.57],\n",
       "       [0.14, 0.86],\n",
       "       [0.18, 0.82],\n",
       "       [0.02, 0.98],\n",
       "       [0.94, 0.06]])"
      ]
     },
     "execution_count": 17,
     "metadata": {},
     "output_type": "execute_result"
    }
   ],
   "source": [
    "forest.predict_proba(X_test.iloc[0:15])"
   ]
  },
  {
   "cell_type": "markdown",
   "metadata": {},
   "source": [
    "When we look for the probability that the same patients will have adenocarcinoma, we find that the the same three patients have a low risk of having adenocarcinoma.  "
   ]
  },
  {
   "cell_type": "markdown",
   "metadata": {},
   "source": [
    "## Further possible actions"
   ]
  },
  {
   "cell_type": "markdown",
   "metadata": {},
   "source": [
    "Some steps that could be taken are the following:\n",
    "\n",
    "    1. We can ask the person who collected the data why there are so many outliers in some of the gene features. \n",
    "    2. We can ue se a gridsearch CV to improve our RandomForest model. \n",
    "    3. Focus on generating new features that can improve our predictions. What are some other potential features that can cause \n",
    "       adenocarcinoma?"
   ]
  },
  {
   "cell_type": "code",
   "execution_count": null,
   "metadata": {},
   "outputs": [],
   "source": [
    "## Scale after you split and, print classification report, further steps. "
   ]
  }
 ],
 "metadata": {
  "kernelspec": {
   "display_name": "Python 3",
   "language": "python",
   "name": "python3"
  },
  "language_info": {
   "codemirror_mode": {
    "name": "ipython",
    "version": 3
   },
   "file_extension": ".py",
   "mimetype": "text/x-python",
   "name": "python",
   "nbconvert_exporter": "python",
   "pygments_lexer": "ipython3",
   "version": "3.7.7"
  }
 },
 "nbformat": 4,
 "nbformat_minor": 4
}
